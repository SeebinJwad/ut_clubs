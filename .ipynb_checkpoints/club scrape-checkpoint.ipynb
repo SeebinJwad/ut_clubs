{
 "cells": [
  {
   "cell_type": "code",
   "execution_count": 1,
   "id": "cf2e9c84",
   "metadata": {},
   "outputs": [],
   "source": [
    "from selenium import webdriver\n",
    "from selenium.webdriver.common.by import By\n",
    "import time"
   ]
  },
  {
   "cell_type": "code",
   "execution_count": 2,
   "id": "91eeb8fa",
   "metadata": {},
   "outputs": [],
   "source": [
    "driver = webdriver.Chrome()"
   ]
  },
  {
   "cell_type": "code",
   "execution_count": 3,
   "id": "ca753044",
   "metadata": {},
   "outputs": [],
   "source": [
    "driver.get(\"https://utexas.campuslabs.com/engage/organizations\")"
   ]
  },
  {
   "cell_type": "code",
   "execution_count": 37,
   "id": "bd5e9942",
   "metadata": {},
   "outputs": [],
   "source": [
    "load_more = driver.find_element(By.XPATH, \"//div[@class='outlinedButton']\")\n",
    "\n",
    "# scrolls to all ~800 results\n",
    "while True:\n",
    "    try:\n",
    "        load_more.click()\n",
    "        time.sleep(2)\n",
    "    except:\n",
    "        break"
   ]
  },
  {
   "cell_type": "code",
   "execution_count": 38,
   "id": "0d0a4d01",
   "metadata": {},
   "outputs": [],
   "source": [
    "cards = driver.find_elements(By.XPATH, \"//a[starts-with(@href,'/engage/organization/')]\")"
   ]
  },
  {
   "cell_type": "code",
   "execution_count": 39,
   "id": "612b183d",
   "metadata": {},
   "outputs": [],
   "source": [
    "href_list = []\n",
    "for card in cards:\n",
    "    href_list.append(card.get_attribute(\"href\"))"
   ]
  },
  {
   "cell_type": "code",
   "execution_count": 40,
   "id": "7d0bf654",
   "metadata": {},
   "outputs": [],
   "source": [
    "with open(\"hrefs.txt\", 'w+') as file:\n",
    "    file.write(\"\\n\".join(href_list))"
   ]
  },
  {
   "cell_type": "code",
   "execution_count": null,
   "id": "e32dada6",
   "metadata": {},
   "outputs": [],
   "source": [
    "driver.quit()"
   ]
  }
 ],
 "metadata": {
  "kernelspec": {
   "display_name": "Python 3",
   "language": "python",
   "name": "python3"
  },
  "language_info": {
   "codemirror_mode": {
    "name": "ipython",
    "version": 3
   },
   "file_extension": ".py",
   "mimetype": "text/x-python",
   "name": "python",
   "nbconvert_exporter": "python",
   "pygments_lexer": "ipython3",
   "version": "3.8.8"
  }
 },
 "nbformat": 4,
 "nbformat_minor": 5
}
